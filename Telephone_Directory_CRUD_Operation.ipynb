{
  "nbformat": 4,
  "nbformat_minor": 0,
  "metadata": {
    "colab": {
      "provenance": [],
      "authorship_tag": "ABX9TyMCxVf14t9sHX8+CqQAekKx",
      "include_colab_link": true
    },
    "kernelspec": {
      "name": "python3",
      "display_name": "Python 3"
    },
    "language_info": {
      "name": "python"
    }
  },
  "cells": [
    {
      "cell_type": "markdown",
      "metadata": {
        "id": "view-in-github",
        "colab_type": "text"
      },
      "source": [
        "<a href=\"https://colab.research.google.com/github/MohdHassanS/MongoDB/blob/main/Telephone_Directory_CRUD_Operation.ipynb\" target=\"_parent\"><img src=\"https://colab.research.google.com/assets/colab-badge.svg\" alt=\"Open In Colab\"/></a>"
      ]
    },
    {
      "cell_type": "markdown",
      "source": [
        "# Connecting to Atlas & Creating New Database"
      ],
      "metadata": {
        "id": "qtmckCDD_Svb"
      }
    },
    {
      "cell_type": "code",
      "source": [
        "from pymongo import MongoClient\n",
        "import json\n",
        "client=MongoClient(\"mongodb+srv://hassan:<###>@cluster0.ramve98.mongodb.net/test\")  #replace <####> with your own password\n",
        "print(client.list_database_names())"
      ],
      "metadata": {
        "colab": {
          "base_uri": "https://localhost:8080/"
        },
        "id": "rfKvcMGI_j8V",
        "outputId": "cfe30f37-154f-482b-8b7c-adc072aac4e6"
      },
      "execution_count": null,
      "outputs": [
        {
          "output_type": "stream",
          "name": "stdout",
          "text": [
            "['student_DB', 'telephone_directory', 'admin', 'local']\n"
          ]
        }
      ]
    },
    {
      "cell_type": "code",
      "source": [
        "db=client['telephone_directory']             # creating New Database"
      ],
      "metadata": {
        "id": "7WCXIlttAir0"
      },
      "execution_count": null,
      "outputs": []
    },
    {
      "cell_type": "code",
      "source": [
        "x=db['details']                              # creating new collection in the database"
      ],
      "metadata": {
        "id": "8hdqiOyfDxUL"
      },
      "execution_count": null,
      "outputs": []
    },
    {
      "cell_type": "markdown",
      "source": [
        "# Getting Directory inputs"
      ],
      "metadata": {
        "id": "pcf6uQVMFh__"
      }
    },
    {
      "cell_type": "code",
      "metadata": {
        "id": "y5TvGradhcu6",
        "cellView": "form"
      },
      "source": [
        "#@title Details\n",
        "Name = \"vijay\" #@param {type:\"string\"}\n",
        "Age = 23 #@param {type:\"slider\", min:15, max:80, step:1}\n",
        "PhoneNo = 7878656531 #@param {type:\"integer\", max:80}\n",
        "place = \"tirupur\" #@param {type:\"string\"}"
      ],
      "execution_count": null,
      "outputs": []
    },
    {
      "cell_type": "code",
      "source": [
        "record={'name':Name,'age' :Age,'phone_no' :PhoneNo,'place' :place}"
      ],
      "metadata": {
        "id": "kOyNOKwBYHsX"
      },
      "execution_count": null,
      "outputs": []
    },
    {
      "cell_type": "markdown",
      "source": [
        "# CRUD operations (Create, retrieve, update, and delete)\n"
      ],
      "metadata": {
        "id": "TtFEdqCjFw7l"
      }
    },
    {
      "cell_type": "markdown",
      "source": [
        "**Inserting record**"
      ],
      "metadata": {
        "id": "bHt-6T8bGLKK"
      }
    },
    {
      "cell_type": "code",
      "source": [
        "x.insert_one(record)"
      ],
      "metadata": {
        "colab": {
          "base_uri": "https://localhost:8080/"
        },
        "id": "cWyFTbGn5PC1",
        "outputId": "23a21259-e177-495d-cd5c-21eb00b45b00"
      },
      "execution_count": null,
      "outputs": [
        {
          "output_type": "execute_result",
          "data": {
            "text/plain": [
              "<pymongo.results.InsertOneResult at 0x7f88771058d0>"
            ]
          },
          "metadata": {},
          "execution_count": 8
        }
      ]
    },
    {
      "cell_type": "markdown",
      "source": [
        "**Finding record**"
      ],
      "metadata": {
        "id": "CfGURDPCG59U"
      }
    },
    {
      "cell_type": "code",
      "source": [
        "query_1 = x.find()\n",
        "for i in query_1:\n",
        "  print(i)"
      ],
      "metadata": {
        "colab": {
          "base_uri": "https://localhost:8080/"
        },
        "id": "gRVPSK9J--0K",
        "outputId": "3a4606f5-4839-4bb7-e61a-faea4a75ffd1"
      },
      "execution_count": null,
      "outputs": [
        {
          "output_type": "stream",
          "name": "stdout",
          "text": [
            "{'_id': ObjectId('6366aceae921dbbd752da6fb'), 'name': 'umar', 'age': 18, 'phone_no': 1234567890, 'place': 'chennai', 'email': 'abc@gmail.com'}\n",
            "{'_id': ObjectId('63678861bc1093d2caaba96d'), 'name': 'vijay', 'age': 23, 'phone_no': 7878656531, 'place': 'tirupur'}\n"
          ]
        }
      ]
    },
    {
      "cell_type": "markdown",
      "source": [
        "**Modify record**"
      ],
      "metadata": {
        "id": "kJUwocH4GxOd"
      }
    },
    {
      "cell_type": "code",
      "source": [
        "query_2 = {'$set': {'email' : 'abc@gmail.com'}}\n",
        "x.update_one( {'name' : 'umar'}, query_2 )\n",
        "list(x.find())"
      ],
      "metadata": {
        "id": "nR_6oRZ3CCiv",
        "colab": {
          "base_uri": "https://localhost:8080/"
        },
        "outputId": "b7e291bb-8c99-4214-b316-7fbe505a43c1"
      },
      "execution_count": null,
      "outputs": [
        {
          "output_type": "execute_result",
          "data": {
            "text/plain": [
              "[{'_id': ObjectId('6366aceae921dbbd752da6fb'),\n",
              "  'name': 'umar',\n",
              "  'age': 18,\n",
              "  'phone_no': 1234567890,\n",
              "  'place': 'chennai',\n",
              "  'email': 'abc@gmail.com'},\n",
              " {'_id': ObjectId('6367492965e75e1b00baa82d'),\n",
              "  'name': 'vijay',\n",
              "  'age': 23,\n",
              "  'phone_no': 7878656531,\n",
              "  'place': 'tirupur'}]"
            ]
          },
          "metadata": {},
          "execution_count": 11
        }
      ]
    },
    {
      "cell_type": "markdown",
      "source": [
        "**Delete record**"
      ],
      "metadata": {
        "id": "Gk78NHXqe0wz"
      }
    },
    {
      "cell_type": "code",
      "source": [
        "query_3 = {'phone_no': 7878656531}\n",
        "x.delete_one( query_3 )\n",
        "list(x.find())"
      ],
      "metadata": {
        "colab": {
          "base_uri": "https://localhost:8080/"
        },
        "id": "yqjzXmn0fH-_",
        "outputId": "9ac40950-739b-41fb-ff5e-4a440bab18bc"
      },
      "execution_count": null,
      "outputs": [
        {
          "output_type": "execute_result",
          "data": {
            "text/plain": [
              "[{'_id': ObjectId('6366aceae921dbbd752da6fb'),\n",
              "  'name': 'umar',\n",
              "  'age': 18,\n",
              "  'phone_no': 1234567890,\n",
              "  'place': 'chennai',\n",
              "  'email': 'abc@gmail.com'}]"
            ]
          },
          "metadata": {},
          "execution_count": 10
        }
      ]
    }
  ]
}